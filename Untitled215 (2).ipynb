{
 "cells": [
  {
   "cell_type": "code",
   "execution_count": 1,
   "id": "25f48e24-e34c-4fe1-96b1-3317b9e37110",
   "metadata": {},
   "outputs": [],
   "source": [
    "#Q1\n",
    "class Vehicle:\n",
    "    \n",
    "    def __init__(self,name_of_vehicle,max_speed,average_of_vehicle):\n",
    "        self.name_of_vehicle=name_of_vehicle\n",
    "        self.max_speed=max_speed\n",
    "        self.average_of_vehicle=average_of_vehicle\n",
    "        "
   ]
  },
  {
   "cell_type": "code",
   "execution_count": 2,
   "id": "2d891d3c-05a9-4a75-8057-3175de55d508",
   "metadata": {},
   "outputs": [],
   "source": [
    "skoda=Vehicle('Fabia',220,18)"
   ]
  },
  {
   "cell_type": "code",
   "execution_count": 13,
   "id": "ff45dc25-3575-4f90-b970-1e5de10fb995",
   "metadata": {},
   "outputs": [],
   "source": [
    "#Q2\n",
    "class Vehicle:\n",
    "    \n",
    "    def __init__(self,name_of_vehicle,max_speed,average_of_vehicle):\n",
    "        self.name_of_vehicle=name_of_vehicle\n",
    "        self.max_speed=max_speed\n",
    "        self.average_of_vehicle=average_of_vehicle\n",
    "class Car(Vehicle):\n",
    "    def __init__(self,name_of_vehicle,max_speed,average_of_vehicle):\n",
    "        super().__init__(name_of_vehicle,max_speed,average_of_vehicle)\n",
    "        \n",
    "    def seating_capacity(self,capacity):\n",
    "            \n",
    "            \n",
    "        print('name of vehicle is ' + self.name_of_vehicle + 'with seating capacity'+  str(capacity))\n",
    "    "
   ]
  },
  {
   "cell_type": "code",
   "execution_count": 15,
   "id": "139ec2d7-4436-4236-a28b-ac0674fa6590",
   "metadata": {},
   "outputs": [],
   "source": [
    "skoda=Car('Fabia',220,18)"
   ]
  },
  {
   "cell_type": "code",
   "execution_count": 16,
   "id": "1b4cb99c-2356-4740-b5b8-e384cf06997c",
   "metadata": {},
   "outputs": [
    {
     "name": "stdout",
     "output_type": "stream",
     "text": [
      "name of vehicle is Fabiawith seating capacity3\n"
     ]
    }
   ],
   "source": [
    "skoda.seating_capacity(3)"
   ]
  },
  {
   "cell_type": "code",
   "execution_count": 17,
   "id": "5f206117-48dd-4084-82a9-9718e14a9c9a",
   "metadata": {},
   "outputs": [],
   "source": [
    "#q3\n",
    "#multiple inheritance : is a type of inheritance whwre the child class inherit from two parent different parent classes\n"
   ]
  },
  {
   "cell_type": "code",
   "execution_count": 46,
   "id": "e3a1a330-8ab8-4622-8563-ed97694583b1",
   "metadata": {},
   "outputs": [],
   "source": [
    "class Company:\n",
    "    \n",
    "    \n",
    "       \n",
    "       \n",
    "    def show(self):\n",
    "        print('welcome to the company')\n",
    "class Product:\n",
    "    \n",
    "    def __init__(self,name_of_product):\n",
    "        self.name_of_product=name_of_product\n",
    "        \n",
    "    def name(self):\n",
    "        return self.name_of_product\n",
    "class Smartphone(Company,Product):\n",
    "   \n",
    "    pass\n",
    "        \n",
    "        "
   ]
  },
  {
   "cell_type": "code",
   "execution_count": 48,
   "id": "203c5f3f-313d-4303-8349-ab2b68f29f4d",
   "metadata": {},
   "outputs": [],
   "source": [
    "nokia_3310=Smartphone('Nokia')\n"
   ]
  },
  {
   "cell_type": "code",
   "execution_count": 49,
   "id": "56d72bd9-f084-4659-8dcd-458c3be2c951",
   "metadata": {},
   "outputs": [
    {
     "name": "stdout",
     "output_type": "stream",
     "text": [
      "welcome to the company\n"
     ]
    }
   ],
   "source": [
    "\n",
    "nokia_3310.show()"
   ]
  },
  {
   "cell_type": "code",
   "execution_count": 50,
   "id": "b790c863-a185-4fc0-a9ff-4e229492199b",
   "metadata": {},
   "outputs": [
    {
     "data": {
      "text/plain": [
       "'Nokia'"
      ]
     },
     "execution_count": 50,
     "metadata": {},
     "output_type": "execute_result"
    }
   ],
   "source": [
    "nokia_3310.name()"
   ]
  },
  {
   "cell_type": "code",
   "execution_count": 51,
   "id": "67d9abcd-1fa0-49ac-b950-6e710b352d74",
   "metadata": {},
   "outputs": [],
   "source": [
    "#q4\n",
    "#getters and setters are special methods ,getters method help in knowing the values of privte methods ,and setter method help in changing the value private attribute if it fullfills certain conditions of conditionals statement"
   ]
  },
  {
   "cell_type": "code",
   "execution_count": 68,
   "id": "20e6b4d2-c48c-4087-b4ed-2cfffa9a3dcb",
   "metadata": {},
   "outputs": [],
   "source": [
    "class product:\n",
    "    \n",
    "    def __init__(self,name,price):\n",
    "        self.name=name\n",
    "        self.__price=price\n",
    "    @property    \n",
    "    def show_value(self):\n",
    "         print(self.__price)\n",
    "    def sett(self,price):\n",
    "        if price>3500:\n",
    "            self.__price=price\n",
    "        else:\n",
    "            False"
   ]
  },
  {
   "cell_type": "code",
   "execution_count": 69,
   "id": "7314caab-0eb3-43d1-b0eb-0b58111237d2",
   "metadata": {},
   "outputs": [],
   "source": [
    "dryer=product('philips',4000)"
   ]
  },
  {
   "cell_type": "code",
   "execution_count": 70,
   "id": "227826cc-5a96-4be0-aea2-91da5be1145f",
   "metadata": {},
   "outputs": [
    {
     "name": "stdout",
     "output_type": "stream",
     "text": [
      "4000\n"
     ]
    },
    {
     "ename": "TypeError",
     "evalue": "'NoneType' object is not callable",
     "output_type": "error",
     "traceback": [
      "\u001b[0;31m---------------------------------------------------------------------------\u001b[0m",
      "\u001b[0;31mTypeError\u001b[0m                                 Traceback (most recent call last)",
      "Cell \u001b[0;32mIn[70], line 1\u001b[0m\n\u001b[0;32m----> 1\u001b[0m \u001b[43mdryer\u001b[49m\u001b[38;5;241;43m.\u001b[39;49m\u001b[43mshow_value\u001b[49m\u001b[43m(\u001b[49m\u001b[43m)\u001b[49m\n",
      "\u001b[0;31mTypeError\u001b[0m: 'NoneType' object is not callable"
     ]
    }
   ],
   "source": [
    "dryer.show_value()"
   ]
  },
  {
   "cell_type": "code",
   "execution_count": 71,
   "id": "6a2dac33-fe42-4c17-99a2-9e8116eafd8f",
   "metadata": {},
   "outputs": [],
   "source": [
    "dryer.sett(3777)"
   ]
  },
  {
   "cell_type": "code",
   "execution_count": 72,
   "id": "4be8381e-d894-43ff-ae88-4cb3ee912453",
   "metadata": {},
   "outputs": [
    {
     "name": "stdout",
     "output_type": "stream",
     "text": [
      "3777\n"
     ]
    },
    {
     "ename": "TypeError",
     "evalue": "'NoneType' object is not callable",
     "output_type": "error",
     "traceback": [
      "\u001b[0;31m---------------------------------------------------------------------------\u001b[0m",
      "\u001b[0;31mTypeError\u001b[0m                                 Traceback (most recent call last)",
      "Cell \u001b[0;32mIn[72], line 1\u001b[0m\n\u001b[0;32m----> 1\u001b[0m \u001b[43mdryer\u001b[49m\u001b[38;5;241;43m.\u001b[39;49m\u001b[43mshow_value\u001b[49m\u001b[43m(\u001b[49m\u001b[43m)\u001b[49m\n",
      "\u001b[0;31mTypeError\u001b[0m: 'NoneType' object is not callable"
     ]
    }
   ],
   "source": [
    "dryer.show_value()"
   ]
  },
  {
   "cell_type": "code",
   "execution_count": 73,
   "id": "b90dd693-aad8-4a28-b45d-e672cfed435c",
   "metadata": {},
   "outputs": [],
   "source": [
    "#q5\n",
    "# Method overiding is concept of oop which is generally interacted most in inheritance,where if the child class and parent class is having the method with name python comnpiler excutes the child class function"
   ]
  },
  {
   "cell_type": "code",
   "execution_count": 74,
   "id": "50bf6376-4a11-4147-b03f-85d45cf9fd67",
   "metadata": {},
   "outputs": [],
   "source": [
    "class Product:\n",
    "    def show(self):\n",
    "        print('welcome to the company')\n",
    "class smartphone(Product):\n",
    "    def show(self):\n",
    "        print('congrats with new phone')\n",
    "        "
   ]
  },
  {
   "cell_type": "code",
   "execution_count": 75,
   "id": "b32eebf5-4af0-409e-bbc8-dfda11fda391",
   "metadata": {},
   "outputs": [],
   "source": [
    "iphone=smartphone()"
   ]
  },
  {
   "cell_type": "code",
   "execution_count": 76,
   "id": "38cda6ce-f4a5-47d9-b24f-af495ade9286",
   "metadata": {},
   "outputs": [
    {
     "name": "stdout",
     "output_type": "stream",
     "text": [
      "congrats with new phone\n"
     ]
    }
   ],
   "source": [
    "iphone.show()"
   ]
  },
  {
   "cell_type": "code",
   "execution_count": null,
   "id": "8e728433-da38-423c-aa07-c3e57e376803",
   "metadata": {},
   "outputs": [],
   "source": []
  }
 ],
 "metadata": {
  "kernelspec": {
   "display_name": "Python 3 (ipykernel)",
   "language": "python",
   "name": "python3"
  },
  "language_info": {
   "codemirror_mode": {
    "name": "ipython",
    "version": 3
   },
   "file_extension": ".py",
   "mimetype": "text/x-python",
   "name": "python",
   "nbconvert_exporter": "python",
   "pygments_lexer": "ipython3",
   "version": "3.10.8"
  }
 },
 "nbformat": 4,
 "nbformat_minor": 5
}
